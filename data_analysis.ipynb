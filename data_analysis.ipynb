{
 "cells": [
  {
   "cell_type": "code",
   "execution_count": 1,
   "id": "44aaac59",
   "metadata": {},
   "outputs": [
    {
     "name": "stdout",
     "output_type": "stream",
     "text": [
      "{'Class 12 - Chemistry', 'Class 12 - Physics', 'Class 10 - Social Science', 'Class 12 - Mathematics', 'Class 10 - Hindi', 'Class 10 - Mathematics', 'Class 10 - Science', 'Class 10 - English'}\n"
     ]
    }
   ],
   "source": [
    "import pandas as pd\n",
    "\n",
    "# open the \"/home/harsh/Downloads/sem3/survey/survey_responses.csv\" file and lets do the analysis\n",
    "df = pd.read_csv('/home/harsh/Downloads/sem3/survey/survey_responses.csv')\n",
    "\n",
    "colms = df.columns\n",
    "\n",
    "non_subj_cols = ['classes', 'teaching_experience', 'subjects']\n",
    "\n",
    "subjects = set()\n",
    "\n",
    "for col in colms:\n",
    "    if col not in non_subj_cols:\n",
    "        subj = col.rsplit('_', 1)[0]\n",
    "        subjects.add(subj)\n",
    "print(subjects)"
   ]
  },
  {
   "cell_type": "code",
   "execution_count": 2,
   "id": "60f080c2",
   "metadata": {},
   "outputs": [
    {
     "name": "stdout",
     "output_type": "stream",
     "text": [
      "Subject: Class 12 - Chemistry, Count: 2\n",
      "  Bad: 42.5 to 70.0\n",
      "  Avg: 70.0 to 80.0\n",
      "  Good: 80.0 to 100.0\n",
      "Subject: Class 12 - Physics, Count: 4\n",
      "  Bad: 40.0 to 63.8\n",
      "  Avg: 63.8 to 81.2\n",
      "  Good: 81.2 to 100.0\n",
      "Subject: Class 10 - Social Science, Count: 5\n",
      "  Bad: 41.0 to 64.0\n",
      "  Avg: 64.0 to 81.0\n",
      "  Good: 81.0 to 100.0\n",
      "Subject: Class 12 - Mathematics, Count: 5\n",
      "  Bad: 39.0 to 66.0\n",
      "  Avg: 66.0 to 79.0\n",
      "  Good: 79.0 to 100.0\n",
      "Subject: Class 10 - Hindi, Count: 6\n",
      "  Bad: 40.8 to 61.7\n",
      "  Avg: 61.7 to 84.2\n",
      "  Good: 84.2 to 100.0\n",
      "Subject: Class 10 - Mathematics, Count: 4\n",
      "  Bad: 40.0 to 61.2\n",
      "  Avg: 61.2 to 78.8\n",
      "  Good: 78.8 to 100.0\n",
      "Subject: Class 10 - Science, Count: 3\n",
      "  Bad: 43.3 to 65.0\n",
      "  Avg: 65.0 to 78.3\n",
      "  Good: 78.3 to 100.0\n",
      "Subject: Class 10 - English, Count: 7\n",
      "  Bad: 41.4 to 58.6\n",
      "  Avg: 58.6 to 80.7\n",
      "  Good: 80.7 to 100.0\n"
     ]
    }
   ],
   "source": [
    "for subj in subjects:\n",
    "    df_subj = df[df[f\"{subj}_avg\"].notna()]\n",
    "    count = len(df_subj)\n",
    "    if count == 0:\n",
    "        continue\n",
    "    print(f\"Subject: {subj}, Count: {count}\")\n",
    "    bad_min = df_subj[f\"{subj}_bad\"].str.split(' to ').str[0].astype(int).mean()\n",
    "    bad_max = df_subj[f\"{subj}_bad\"].str.split(' to ').str[1].astype(int).mean()\n",
    "    avg_min = df_subj[f\"{subj}_avg\"].str.split(' to ').str[0].astype(int).mean()\n",
    "    avg_max = df_subj[f\"{subj}_avg\"].str.split(' to ').str[1].astype(int).mean()\n",
    "    good_min = df_subj[f\"{subj}_good\"].str.split(' to ').str[0].astype(int).mean()\n",
    "    good_max = df_subj[f\"{subj}_good\"].str.split(' to ').str[1].astype(int).mean()\n",
    "    print(f\"  Bad: {bad_min:.1f} to {bad_max:.1f}\")\n",
    "    print(f\"  Avg: {avg_min:.1f} to {avg_max:.1f}\")\n",
    "    print(f\"  Good: {good_min:.1f} to {good_max:.1f}\")    "
   ]
  },
  {
   "cell_type": "code",
   "execution_count": null,
   "id": "939a9058",
   "metadata": {},
   "outputs": [],
   "source": []
  }
 ],
 "metadata": {
  "kernelspec": {
   "display_name": "nlp",
   "language": "python",
   "name": "python3"
  },
  "language_info": {
   "codemirror_mode": {
    "name": "ipython",
    "version": 3
   },
   "file_extension": ".py",
   "mimetype": "text/x-python",
   "name": "python",
   "nbconvert_exporter": "python",
   "pygments_lexer": "ipython3",
   "version": "3.10.16"
  }
 },
 "nbformat": 4,
 "nbformat_minor": 5
}
